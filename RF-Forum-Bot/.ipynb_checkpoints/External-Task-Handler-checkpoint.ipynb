{
 "cells": [
  {
   "cell_type": "code",
   "execution_count": 1,
   "metadata": {},
   "outputs": [],
   "source": [
    "import time\n",
    "\n",
    "from camunda.external_task.external_task import ExternalTask, TaskResult\n",
    "from camunda.external_task.external_task_worker import ExternalTaskWorker\n",
    "\n",
    "import robot\n",
    "\n",
    "\n",
    "def handle_task(task: ExternalTask) -> TaskResult:\n",
    "    \n",
    "    # get Variables from the process\n",
    "    emailAddress = task.get_variable(\"email\")\n",
    "    userNameForum = task.get_variable(\"username\")\n",
    "    firstname = task.get_variable(\"firstname\")\n",
    "    lastname = task.get_variable(\"lastname\")\n",
    "    \n",
    "    # Put variables into a list for the RF-task\n",
    "    email = 'email:'+ emailAddress\n",
    "    username = 'username:'+ userNameForum\n",
    "    name= 'name:'+ firstname + ' '+ lastname\n",
    "    \n",
    "    variables =[email, name, username]\n",
    "       \n",
    "    #start RF-task\n",
    "    robotOutput = robot.run(\"signUpForum.robot\", variable=variables)\n",
    "    \n",
    "    # send failure if RF does not completed successfully\n",
    "    if(robotOutput!= 0):        \n",
    "        return task.failure(error_message=\"RF-task failed\",  error_details=\"The RF task was not completed successfully. For more information open the log.html from the RF task \", \n",
    "                            max_retries=0, retry_timeout=5000)\n",
    "        \n",
    "    \n",
    "    # complete task, if RF task completed successfully    \n",
    "    return task.complete()\n",
    "\n",
    "ExternalTaskWorker(worker_id=\"1\").subscribe(\"SignupForForum\", handle_task)"
   ]
  },
  {
   "cell_type": "code",
   "execution_count": null,
   "metadata": {},
   "outputs": [],
   "source": []
  }
 ],
 "metadata": {
  "kernelspec": {
   "display_name": "Python 3",
   "language": "python",
   "name": "python3"
  },
  "language_info": {
   "codemirror_mode": {
    "name": "ipython",
    "version": 3
   },
   "file_extension": ".py",
   "mimetype": "text/x-python",
   "name": "python",
   "nbconvert_exporter": "python",
   "pygments_lexer": "ipython3",
   "version": "3.8.5"
  }
 },
 "nbformat": 4,
 "nbformat_minor": 4
}
